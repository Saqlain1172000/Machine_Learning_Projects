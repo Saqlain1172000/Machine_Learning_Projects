{
 "cells": [
  {
   "cell_type": "markdown",
   "metadata": {},
   "source": [
    "Importing Librarires to Scrape Data from Google play and for other operations"
   ]
  },
  {
   "cell_type": "code",
   "execution_count": 1,
   "metadata": {},
   "outputs": [],
   "source": [
    "from google_play_scraper import Sort, reviews_all, reviews, app\n",
    "import pandas as pd\n",
    "import numpy as np"
   ]
  },
  {
   "cell_type": "markdown",
   "metadata": {},
   "source": [
    "We are using Adobe Photoshop as our app for Analysis"
   ]
  },
  {
   "cell_type": "code",
   "execution_count": 2,
   "metadata": {},
   "outputs": [],
   "source": [
    "result, continuation_token = reviews(\n",
    "    'com.adobe.psmobile',\n",
    "    lang='en', # defaults to 'en'\n",
    "    country='us', # defaults to 'us'\n",
    "    sort=Sort.NEWEST, # defaults to Sort.NEWEST\n",
    "    count=500, # defaults to 100\n",
    "    filter_score_with=None # defaults to None(means all score)\n",
    ")\n",
    "\n",
    "result, _ = reviews(\n",
    "    'com.adobe.psmobile',\n",
    "    continuation_token=continuation_token # defaults to None(load from the beginning)\n",
    ")"
   ]
  },
  {
   "cell_type": "markdown",
   "metadata": {},
   "source": [
    "Scraped the result and putting it into a DataFrame"
   ]
  },
  {
   "cell_type": "code",
   "execution_count": 3,
   "metadata": {},
   "outputs": [],
   "source": [
    "scrapeddata = pd.DataFrame(np.array(result), columns = ['review'])\n",
    "scrapeddata = scrapeddata.join(pd.DataFrame(scrapeddata.pop('review').tolist()))"
   ]
  },
  {
   "cell_type": "code",
   "execution_count": 4,
   "metadata": {},
   "outputs": [
    {
     "data": {
      "text/html": [
       "<div>\n",
       "<style scoped>\n",
       "    .dataframe tbody tr th:only-of-type {\n",
       "        vertical-align: middle;\n",
       "    }\n",
       "\n",
       "    .dataframe tbody tr th {\n",
       "        vertical-align: top;\n",
       "    }\n",
       "\n",
       "    .dataframe thead th {\n",
       "        text-align: right;\n",
       "    }\n",
       "</style>\n",
       "<table border=\"1\" class=\"dataframe\">\n",
       "  <thead>\n",
       "    <tr style=\"text-align: right;\">\n",
       "      <th></th>\n",
       "      <th>reviewId</th>\n",
       "      <th>userName</th>\n",
       "      <th>userImage</th>\n",
       "      <th>content</th>\n",
       "      <th>score</th>\n",
       "      <th>thumbsUpCount</th>\n",
       "      <th>reviewCreatedVersion</th>\n",
       "      <th>at</th>\n",
       "      <th>replyContent</th>\n",
       "      <th>repliedAt</th>\n",
       "    </tr>\n",
       "  </thead>\n",
       "  <tbody>\n",
       "    <tr>\n",
       "      <th>0</th>\n",
       "      <td>dc657a06-58e1-48b6-8e2c-730087082bca</td>\n",
       "      <td>Kakumba Kenny</td>\n",
       "      <td>https://play-lh.googleusercontent.com/a/AItbvm...</td>\n",
       "      <td>It is good for editing text</td>\n",
       "      <td>5</td>\n",
       "      <td>0</td>\n",
       "      <td>None</td>\n",
       "      <td>2022-08-21 00:30:06</td>\n",
       "      <td>None</td>\n",
       "      <td>NaT</td>\n",
       "    </tr>\n",
       "    <tr>\n",
       "      <th>1</th>\n",
       "      <td>8618b508-fdc7-4922-9f9c-6592a81f22a2</td>\n",
       "      <td>dhurvey Dhurve</td>\n",
       "      <td>https://play-lh.googleusercontent.com/a-/AFdZu...</td>\n",
       "      <td>Wow</td>\n",
       "      <td>4</td>\n",
       "      <td>0</td>\n",
       "      <td>None</td>\n",
       "      <td>2022-08-20 23:24:03</td>\n",
       "      <td>Hi there! We're glad to hear you like the app....</td>\n",
       "      <td>2022-08-25 02:59:31</td>\n",
       "    </tr>\n",
       "    <tr>\n",
       "      <th>2</th>\n",
       "      <td>43be1158-3d57-440d-a187-b95e0c17a164</td>\n",
       "      <td>Alok Bisoi</td>\n",
       "      <td>https://play-lh.googleusercontent.com/a-/AFdZu...</td>\n",
       "      <td>Good</td>\n",
       "      <td>4</td>\n",
       "      <td>0</td>\n",
       "      <td>8.3.979</td>\n",
       "      <td>2022-08-20 22:42:48</td>\n",
       "      <td>Hi there! We're glad to hear you like the app....</td>\n",
       "      <td>2022-08-25 02:59:37</td>\n",
       "    </tr>\n",
       "    <tr>\n",
       "      <th>3</th>\n",
       "      <td>304e7019-737c-4351-b8af-64b69049846c</td>\n",
       "      <td>Krishna Jaishwal</td>\n",
       "      <td>https://play-lh.googleusercontent.com/a/AItbvm...</td>\n",
       "      <td>Nice</td>\n",
       "      <td>5</td>\n",
       "      <td>0</td>\n",
       "      <td>None</td>\n",
       "      <td>2022-08-20 22:15:45</td>\n",
       "      <td>None</td>\n",
       "      <td>NaT</td>\n",
       "    </tr>\n",
       "    <tr>\n",
       "      <th>4</th>\n",
       "      <td>8c9bef14-d92d-49f3-9ba2-b07d935d4f37</td>\n",
       "      <td>moto g3m</td>\n",
       "      <td>https://play-lh.googleusercontent.com/a-/AFdZu...</td>\n",
       "      <td>Nice app.</td>\n",
       "      <td>2</td>\n",
       "      <td>0</td>\n",
       "      <td>None</td>\n",
       "      <td>2022-08-20 22:00:33</td>\n",
       "      <td>Hi there! We're glad to hear you like the app....</td>\n",
       "      <td>2022-08-24 00:40:08</td>\n",
       "    </tr>\n",
       "  </tbody>\n",
       "</table>\n",
       "</div>"
      ],
      "text/plain": [
       "                               reviewId          userName  \\\n",
       "0  dc657a06-58e1-48b6-8e2c-730087082bca     Kakumba Kenny   \n",
       "1  8618b508-fdc7-4922-9f9c-6592a81f22a2    dhurvey Dhurve   \n",
       "2  43be1158-3d57-440d-a187-b95e0c17a164        Alok Bisoi   \n",
       "3  304e7019-737c-4351-b8af-64b69049846c  Krishna Jaishwal   \n",
       "4  8c9bef14-d92d-49f3-9ba2-b07d935d4f37          moto g3m   \n",
       "\n",
       "                                           userImage  \\\n",
       "0  https://play-lh.googleusercontent.com/a/AItbvm...   \n",
       "1  https://play-lh.googleusercontent.com/a-/AFdZu...   \n",
       "2  https://play-lh.googleusercontent.com/a-/AFdZu...   \n",
       "3  https://play-lh.googleusercontent.com/a/AItbvm...   \n",
       "4  https://play-lh.googleusercontent.com/a-/AFdZu...   \n",
       "\n",
       "                       content  score  thumbsUpCount reviewCreatedVersion  \\\n",
       "0  It is good for editing text      5              0                 None   \n",
       "1                          Wow      4              0                 None   \n",
       "2                         Good      4              0              8.3.979   \n",
       "3                         Nice      5              0                 None   \n",
       "4                    Nice app.      2              0                 None   \n",
       "\n",
       "                   at                                       replyContent  \\\n",
       "0 2022-08-21 00:30:06                                               None   \n",
       "1 2022-08-20 23:24:03  Hi there! We're glad to hear you like the app....   \n",
       "2 2022-08-20 22:42:48  Hi there! We're glad to hear you like the app....   \n",
       "3 2022-08-20 22:15:45                                               None   \n",
       "4 2022-08-20 22:00:33  Hi there! We're glad to hear you like the app....   \n",
       "\n",
       "            repliedAt  \n",
       "0                 NaT  \n",
       "1 2022-08-25 02:59:31  \n",
       "2 2022-08-25 02:59:37  \n",
       "3                 NaT  \n",
       "4 2022-08-24 00:40:08  "
      ]
     },
     "execution_count": 4,
     "metadata": {},
     "output_type": "execute_result"
    }
   ],
   "source": [
    "scrapeddata.head()"
   ]
  },
  {
   "cell_type": "code",
   "execution_count": 5,
   "metadata": {},
   "outputs": [
    {
     "data": {
      "text/plain": [
       "3.936"
      ]
     },
     "execution_count": 5,
     "metadata": {},
     "output_type": "execute_result"
    }
   ],
   "source": [
    "scrapeddata['score'].mean()"
   ]
  },
  {
   "cell_type": "code",
   "execution_count": 6,
   "metadata": {},
   "outputs": [
    {
     "data": {
      "text/plain": [
       "8.3.979    282\n",
       "8.3.977     19\n",
       "8.2.970      7\n",
       "8.1.958      6\n",
       "8.0.929      4\n",
       "8.1.952      2\n",
       "6.9.747      1\n",
       "8.4.984      1\n",
       "6.4.597      1\n",
       "8.3.974      1\n",
       "5.0.508      1\n",
       "6.8.603      1\n",
       "6.0.590      1\n",
       "5.1.524      1\n",
       "7.2.785      1\n",
       "Name: reviewCreatedVersion, dtype: int64"
      ]
     },
     "execution_count": 6,
     "metadata": {},
     "output_type": "execute_result"
    }
   ],
   "source": [
    "scrapeddata['reviewCreatedVersion'].value_counts()"
   ]
  },
  {
   "cell_type": "code",
   "execution_count": 7,
   "metadata": {},
   "outputs": [
    {
     "name": "stderr",
     "output_type": "stream",
     "text": [
      "All model checkpoint layers were used when initializing TFRobertaForSequenceClassification.\n",
      "\n",
      "All the layers of TFRobertaForSequenceClassification were initialized from the model checkpoint at siebert/sentiment-roberta-large-english.\n",
      "If your task is similar to the task the model of the checkpoint was trained on, you can already use TFRobertaForSequenceClassification for predictions without further training.\n"
     ]
    }
   ],
   "source": [
    "from transformers import pipeline\n",
    "sentiment_analysis = pipeline(\"sentiment-analysis\",model=\"siebert/sentiment-roberta-large-english\")\n"
   ]
  },
  {
   "cell_type": "code",
   "execution_count": 8,
   "metadata": {},
   "outputs": [
    {
     "name": "stdout",
     "output_type": "stream",
     "text": [
      "[{'label': 'NEGATIVE', 'score': 0.9994561076164246}]\n"
     ]
    }
   ],
   "source": [
    "print(sentiment_analysis(\"I hate this!\"))"
   ]
  },
  {
   "cell_type": "code",
   "execution_count": 9,
   "metadata": {},
   "outputs": [
    {
     "data": {
      "text/plain": [
       "reviewId                        object\n",
       "userName                        object\n",
       "userImage                       object\n",
       "content                         object\n",
       "score                            int64\n",
       "thumbsUpCount                    int64\n",
       "reviewCreatedVersion            object\n",
       "at                      datetime64[ns]\n",
       "replyContent                    object\n",
       "repliedAt               datetime64[ns]\n",
       "dtype: object"
      ]
     },
     "execution_count": 9,
     "metadata": {},
     "output_type": "execute_result"
    }
   ],
   "source": [
    "scrapeddata.dtypes"
   ]
  },
  {
   "cell_type": "code",
   "execution_count": 10,
   "metadata": {},
   "outputs": [],
   "source": [
    "scrapeddata['content'] = scrapeddata['content'].astype('str')"
   ]
  },
  {
   "cell_type": "code",
   "execution_count": 11,
   "metadata": {},
   "outputs": [],
   "source": [
    "scrapeddata['result'] = scrapeddata['content'].apply(lambda x: sentiment_analysis(x))"
   ]
  },
  {
   "cell_type": "code",
   "execution_count": 12,
   "metadata": {},
   "outputs": [
    {
     "data": {
      "text/html": [
       "<div>\n",
       "<style scoped>\n",
       "    .dataframe tbody tr th:only-of-type {\n",
       "        vertical-align: middle;\n",
       "    }\n",
       "\n",
       "    .dataframe tbody tr th {\n",
       "        vertical-align: top;\n",
       "    }\n",
       "\n",
       "    .dataframe thead th {\n",
       "        text-align: right;\n",
       "    }\n",
       "</style>\n",
       "<table border=\"1\" class=\"dataframe\">\n",
       "  <thead>\n",
       "    <tr style=\"text-align: right;\">\n",
       "      <th></th>\n",
       "      <th>reviewId</th>\n",
       "      <th>userName</th>\n",
       "      <th>userImage</th>\n",
       "      <th>content</th>\n",
       "      <th>score</th>\n",
       "      <th>thumbsUpCount</th>\n",
       "      <th>reviewCreatedVersion</th>\n",
       "      <th>at</th>\n",
       "      <th>replyContent</th>\n",
       "      <th>repliedAt</th>\n",
       "      <th>result</th>\n",
       "    </tr>\n",
       "  </thead>\n",
       "  <tbody>\n",
       "    <tr>\n",
       "      <th>0</th>\n",
       "      <td>dc657a06-58e1-48b6-8e2c-730087082bca</td>\n",
       "      <td>Kakumba Kenny</td>\n",
       "      <td>https://play-lh.googleusercontent.com/a/AItbvm...</td>\n",
       "      <td>It is good for editing text</td>\n",
       "      <td>5</td>\n",
       "      <td>0</td>\n",
       "      <td>None</td>\n",
       "      <td>2022-08-21 00:30:06</td>\n",
       "      <td>None</td>\n",
       "      <td>NaT</td>\n",
       "      <td>[{'label': 'POSITIVE', 'score': 0.996535539627...</td>\n",
       "    </tr>\n",
       "    <tr>\n",
       "      <th>1</th>\n",
       "      <td>8618b508-fdc7-4922-9f9c-6592a81f22a2</td>\n",
       "      <td>dhurvey Dhurve</td>\n",
       "      <td>https://play-lh.googleusercontent.com/a-/AFdZu...</td>\n",
       "      <td>Wow</td>\n",
       "      <td>4</td>\n",
       "      <td>0</td>\n",
       "      <td>None</td>\n",
       "      <td>2022-08-20 23:24:03</td>\n",
       "      <td>Hi there! We're glad to hear you like the app....</td>\n",
       "      <td>2022-08-25 02:59:31</td>\n",
       "      <td>[{'label': 'POSITIVE', 'score': 0.996380031108...</td>\n",
       "    </tr>\n",
       "    <tr>\n",
       "      <th>2</th>\n",
       "      <td>43be1158-3d57-440d-a187-b95e0c17a164</td>\n",
       "      <td>Alok Bisoi</td>\n",
       "      <td>https://play-lh.googleusercontent.com/a-/AFdZu...</td>\n",
       "      <td>Good</td>\n",
       "      <td>4</td>\n",
       "      <td>0</td>\n",
       "      <td>8.3.979</td>\n",
       "      <td>2022-08-20 22:42:48</td>\n",
       "      <td>Hi there! We're glad to hear you like the app....</td>\n",
       "      <td>2022-08-25 02:59:37</td>\n",
       "      <td>[{'label': 'POSITIVE', 'score': 0.998415231704...</td>\n",
       "    </tr>\n",
       "    <tr>\n",
       "      <th>3</th>\n",
       "      <td>304e7019-737c-4351-b8af-64b69049846c</td>\n",
       "      <td>Krishna Jaishwal</td>\n",
       "      <td>https://play-lh.googleusercontent.com/a/AItbvm...</td>\n",
       "      <td>Nice</td>\n",
       "      <td>5</td>\n",
       "      <td>0</td>\n",
       "      <td>None</td>\n",
       "      <td>2022-08-20 22:15:45</td>\n",
       "      <td>None</td>\n",
       "      <td>NaT</td>\n",
       "      <td>[{'label': 'POSITIVE', 'score': 0.997769474983...</td>\n",
       "    </tr>\n",
       "    <tr>\n",
       "      <th>4</th>\n",
       "      <td>8c9bef14-d92d-49f3-9ba2-b07d935d4f37</td>\n",
       "      <td>moto g3m</td>\n",
       "      <td>https://play-lh.googleusercontent.com/a-/AFdZu...</td>\n",
       "      <td>Nice app.</td>\n",
       "      <td>2</td>\n",
       "      <td>0</td>\n",
       "      <td>None</td>\n",
       "      <td>2022-08-20 22:00:33</td>\n",
       "      <td>Hi there! We're glad to hear you like the app....</td>\n",
       "      <td>2022-08-24 00:40:08</td>\n",
       "      <td>[{'label': 'POSITIVE', 'score': 0.998672842979...</td>\n",
       "    </tr>\n",
       "  </tbody>\n",
       "</table>\n",
       "</div>"
      ],
      "text/plain": [
       "                               reviewId          userName  \\\n",
       "0  dc657a06-58e1-48b6-8e2c-730087082bca     Kakumba Kenny   \n",
       "1  8618b508-fdc7-4922-9f9c-6592a81f22a2    dhurvey Dhurve   \n",
       "2  43be1158-3d57-440d-a187-b95e0c17a164        Alok Bisoi   \n",
       "3  304e7019-737c-4351-b8af-64b69049846c  Krishna Jaishwal   \n",
       "4  8c9bef14-d92d-49f3-9ba2-b07d935d4f37          moto g3m   \n",
       "\n",
       "                                           userImage  \\\n",
       "0  https://play-lh.googleusercontent.com/a/AItbvm...   \n",
       "1  https://play-lh.googleusercontent.com/a-/AFdZu...   \n",
       "2  https://play-lh.googleusercontent.com/a-/AFdZu...   \n",
       "3  https://play-lh.googleusercontent.com/a/AItbvm...   \n",
       "4  https://play-lh.googleusercontent.com/a-/AFdZu...   \n",
       "\n",
       "                       content  score  thumbsUpCount reviewCreatedVersion  \\\n",
       "0  It is good for editing text      5              0                 None   \n",
       "1                          Wow      4              0                 None   \n",
       "2                         Good      4              0              8.3.979   \n",
       "3                         Nice      5              0                 None   \n",
       "4                    Nice app.      2              0                 None   \n",
       "\n",
       "                   at                                       replyContent  \\\n",
       "0 2022-08-21 00:30:06                                               None   \n",
       "1 2022-08-20 23:24:03  Hi there! We're glad to hear you like the app....   \n",
       "2 2022-08-20 22:42:48  Hi there! We're glad to hear you like the app....   \n",
       "3 2022-08-20 22:15:45                                               None   \n",
       "4 2022-08-20 22:00:33  Hi there! We're glad to hear you like the app....   \n",
       "\n",
       "            repliedAt                                             result  \n",
       "0                 NaT  [{'label': 'POSITIVE', 'score': 0.996535539627...  \n",
       "1 2022-08-25 02:59:31  [{'label': 'POSITIVE', 'score': 0.996380031108...  \n",
       "2 2022-08-25 02:59:37  [{'label': 'POSITIVE', 'score': 0.998415231704...  \n",
       "3                 NaT  [{'label': 'POSITIVE', 'score': 0.997769474983...  \n",
       "4 2022-08-24 00:40:08  [{'label': 'POSITIVE', 'score': 0.998672842979...  "
      ]
     },
     "execution_count": 12,
     "metadata": {},
     "output_type": "execute_result"
    }
   ],
   "source": [
    "scrapeddata.head()"
   ]
  },
  {
   "cell_type": "code",
   "execution_count": 13,
   "metadata": {},
   "outputs": [
    {
     "data": {
      "text/plain": [
       "(500, 11)"
      ]
     },
     "execution_count": 13,
     "metadata": {},
     "output_type": "execute_result"
    }
   ],
   "source": [
    "scrapeddata.shape"
   ]
  },
  {
   "cell_type": "code",
   "execution_count": 14,
   "metadata": {},
   "outputs": [],
   "source": [
    "x = sentiment_analysis(\"I love this!\")"
   ]
  },
  {
   "cell_type": "code",
   "execution_count": 15,
   "metadata": {},
   "outputs": [
    {
     "data": {
      "text/plain": [
       "0.9988656044006348"
      ]
     },
     "execution_count": 15,
     "metadata": {},
     "output_type": "execute_result"
    }
   ],
   "source": [
    "x[0]['score']"
   ]
  },
  {
   "cell_type": "markdown",
   "metadata": {},
   "source": [
    "Making two more columns to distinguish the sentiment(Positive/Negative) and the score(i.e the percentage) "
   ]
  },
  {
   "cell_type": "code",
   "execution_count": 16,
   "metadata": {},
   "outputs": [],
   "source": [
    "scrapeddata['sentiment'] = scrapeddata['result'].apply(lambda x: (x[0]['label']))\n",
    "scrapeddata['score'] = scrapeddata['result'].apply(lambda x: (x[0]['score']))\n"
   ]
  },
  {
   "cell_type": "code",
   "execution_count": 17,
   "metadata": {},
   "outputs": [
    {
     "data": {
      "text/html": [
       "<div>\n",
       "<style scoped>\n",
       "    .dataframe tbody tr th:only-of-type {\n",
       "        vertical-align: middle;\n",
       "    }\n",
       "\n",
       "    .dataframe tbody tr th {\n",
       "        vertical-align: top;\n",
       "    }\n",
       "\n",
       "    .dataframe thead th {\n",
       "        text-align: right;\n",
       "    }\n",
       "</style>\n",
       "<table border=\"1\" class=\"dataframe\">\n",
       "  <thead>\n",
       "    <tr style=\"text-align: right;\">\n",
       "      <th></th>\n",
       "      <th>reviewId</th>\n",
       "      <th>userName</th>\n",
       "      <th>userImage</th>\n",
       "      <th>content</th>\n",
       "      <th>score</th>\n",
       "      <th>thumbsUpCount</th>\n",
       "      <th>reviewCreatedVersion</th>\n",
       "      <th>at</th>\n",
       "      <th>replyContent</th>\n",
       "      <th>repliedAt</th>\n",
       "      <th>result</th>\n",
       "      <th>sentiment</th>\n",
       "    </tr>\n",
       "  </thead>\n",
       "  <tbody>\n",
       "    <tr>\n",
       "      <th>0</th>\n",
       "      <td>dc657a06-58e1-48b6-8e2c-730087082bca</td>\n",
       "      <td>Kakumba Kenny</td>\n",
       "      <td>https://play-lh.googleusercontent.com/a/AItbvm...</td>\n",
       "      <td>It is good for editing text</td>\n",
       "      <td>0.996536</td>\n",
       "      <td>0</td>\n",
       "      <td>None</td>\n",
       "      <td>2022-08-21 00:30:06</td>\n",
       "      <td>None</td>\n",
       "      <td>NaT</td>\n",
       "      <td>[{'label': 'POSITIVE', 'score': 0.996535539627...</td>\n",
       "      <td>POSITIVE</td>\n",
       "    </tr>\n",
       "    <tr>\n",
       "      <th>1</th>\n",
       "      <td>8618b508-fdc7-4922-9f9c-6592a81f22a2</td>\n",
       "      <td>dhurvey Dhurve</td>\n",
       "      <td>https://play-lh.googleusercontent.com/a-/AFdZu...</td>\n",
       "      <td>Wow</td>\n",
       "      <td>0.996380</td>\n",
       "      <td>0</td>\n",
       "      <td>None</td>\n",
       "      <td>2022-08-20 23:24:03</td>\n",
       "      <td>Hi there! We're glad to hear you like the app....</td>\n",
       "      <td>2022-08-25 02:59:31</td>\n",
       "      <td>[{'label': 'POSITIVE', 'score': 0.996380031108...</td>\n",
       "      <td>POSITIVE</td>\n",
       "    </tr>\n",
       "    <tr>\n",
       "      <th>2</th>\n",
       "      <td>43be1158-3d57-440d-a187-b95e0c17a164</td>\n",
       "      <td>Alok Bisoi</td>\n",
       "      <td>https://play-lh.googleusercontent.com/a-/AFdZu...</td>\n",
       "      <td>Good</td>\n",
       "      <td>0.998415</td>\n",
       "      <td>0</td>\n",
       "      <td>8.3.979</td>\n",
       "      <td>2022-08-20 22:42:48</td>\n",
       "      <td>Hi there! We're glad to hear you like the app....</td>\n",
       "      <td>2022-08-25 02:59:37</td>\n",
       "      <td>[{'label': 'POSITIVE', 'score': 0.998415231704...</td>\n",
       "      <td>POSITIVE</td>\n",
       "    </tr>\n",
       "    <tr>\n",
       "      <th>3</th>\n",
       "      <td>304e7019-737c-4351-b8af-64b69049846c</td>\n",
       "      <td>Krishna Jaishwal</td>\n",
       "      <td>https://play-lh.googleusercontent.com/a/AItbvm...</td>\n",
       "      <td>Nice</td>\n",
       "      <td>0.997769</td>\n",
       "      <td>0</td>\n",
       "      <td>None</td>\n",
       "      <td>2022-08-20 22:15:45</td>\n",
       "      <td>None</td>\n",
       "      <td>NaT</td>\n",
       "      <td>[{'label': 'POSITIVE', 'score': 0.997769474983...</td>\n",
       "      <td>POSITIVE</td>\n",
       "    </tr>\n",
       "    <tr>\n",
       "      <th>4</th>\n",
       "      <td>8c9bef14-d92d-49f3-9ba2-b07d935d4f37</td>\n",
       "      <td>moto g3m</td>\n",
       "      <td>https://play-lh.googleusercontent.com/a-/AFdZu...</td>\n",
       "      <td>Nice app.</td>\n",
       "      <td>0.998673</td>\n",
       "      <td>0</td>\n",
       "      <td>None</td>\n",
       "      <td>2022-08-20 22:00:33</td>\n",
       "      <td>Hi there! We're glad to hear you like the app....</td>\n",
       "      <td>2022-08-24 00:40:08</td>\n",
       "      <td>[{'label': 'POSITIVE', 'score': 0.998672842979...</td>\n",
       "      <td>POSITIVE</td>\n",
       "    </tr>\n",
       "  </tbody>\n",
       "</table>\n",
       "</div>"
      ],
      "text/plain": [
       "                               reviewId          userName  \\\n",
       "0  dc657a06-58e1-48b6-8e2c-730087082bca     Kakumba Kenny   \n",
       "1  8618b508-fdc7-4922-9f9c-6592a81f22a2    dhurvey Dhurve   \n",
       "2  43be1158-3d57-440d-a187-b95e0c17a164        Alok Bisoi   \n",
       "3  304e7019-737c-4351-b8af-64b69049846c  Krishna Jaishwal   \n",
       "4  8c9bef14-d92d-49f3-9ba2-b07d935d4f37          moto g3m   \n",
       "\n",
       "                                           userImage  \\\n",
       "0  https://play-lh.googleusercontent.com/a/AItbvm...   \n",
       "1  https://play-lh.googleusercontent.com/a-/AFdZu...   \n",
       "2  https://play-lh.googleusercontent.com/a-/AFdZu...   \n",
       "3  https://play-lh.googleusercontent.com/a/AItbvm...   \n",
       "4  https://play-lh.googleusercontent.com/a-/AFdZu...   \n",
       "\n",
       "                       content     score  thumbsUpCount reviewCreatedVersion  \\\n",
       "0  It is good for editing text  0.996536              0                 None   \n",
       "1                          Wow  0.996380              0                 None   \n",
       "2                         Good  0.998415              0              8.3.979   \n",
       "3                         Nice  0.997769              0                 None   \n",
       "4                    Nice app.  0.998673              0                 None   \n",
       "\n",
       "                   at                                       replyContent  \\\n",
       "0 2022-08-21 00:30:06                                               None   \n",
       "1 2022-08-20 23:24:03  Hi there! We're glad to hear you like the app....   \n",
       "2 2022-08-20 22:42:48  Hi there! We're glad to hear you like the app....   \n",
       "3 2022-08-20 22:15:45                                               None   \n",
       "4 2022-08-20 22:00:33  Hi there! We're glad to hear you like the app....   \n",
       "\n",
       "            repliedAt                                             result  \\\n",
       "0                 NaT  [{'label': 'POSITIVE', 'score': 0.996535539627...   \n",
       "1 2022-08-25 02:59:31  [{'label': 'POSITIVE', 'score': 0.996380031108...   \n",
       "2 2022-08-25 02:59:37  [{'label': 'POSITIVE', 'score': 0.998415231704...   \n",
       "3                 NaT  [{'label': 'POSITIVE', 'score': 0.997769474983...   \n",
       "4 2022-08-24 00:40:08  [{'label': 'POSITIVE', 'score': 0.998672842979...   \n",
       "\n",
       "  sentiment  \n",
       "0  POSITIVE  \n",
       "1  POSITIVE  \n",
       "2  POSITIVE  \n",
       "3  POSITIVE  \n",
       "4  POSITIVE  "
      ]
     },
     "execution_count": 17,
     "metadata": {},
     "output_type": "execute_result"
    }
   ],
   "source": [
    "scrapeddata.head()"
   ]
  },
  {
   "cell_type": "code",
   "execution_count": 18,
   "metadata": {},
   "outputs": [
    {
     "data": {
      "text/plain": [
       "POSITIVE    0.774\n",
       "NEGATIVE    0.226\n",
       "Name: sentiment, dtype: float64"
      ]
     },
     "execution_count": 18,
     "metadata": {},
     "output_type": "execute_result"
    }
   ],
   "source": [
    "scrapeddata['sentiment'].value_counts(normalize=True)"
   ]
  },
  {
   "cell_type": "code",
   "execution_count": 19,
   "metadata": {},
   "outputs": [
    {
     "data": {
      "text/plain": [
       "0.9913433235883713"
      ]
     },
     "execution_count": 19,
     "metadata": {},
     "output_type": "execute_result"
    }
   ],
   "source": [
    "scrapeddata['score'].mean()"
   ]
  },
  {
   "cell_type": "markdown",
   "metadata": {},
   "source": [
    "Importing libraries to plot the diagram for better visulaization"
   ]
  },
  {
   "cell_type": "code",
   "execution_count": 20,
   "metadata": {},
   "outputs": [],
   "source": [
    "import seaborn as sns\n",
    "import matplotlib.pyplot as plt"
   ]
  },
  {
   "cell_type": "code",
   "execution_count": 21,
   "metadata": {},
   "outputs": [
    {
     "data": {
      "image/png": "[encoded data removed]",
      "text/plain": [
       "<Figure size 432x288 with 1 Axes>"
      ]
     },
     "metadata": {},
     "output_type": "display_data"
    }
   ],
   "source": [
    "sns.set(style=\"whitegrid\")\n",
    "fig = sns.countplot(x=scrapeddata['sentiment'], color='purple')\n",
    "plt.title('Number of Positive and Negative Reviews')\n",
    "plt.show()"
   ]
  },
  {
   "cell_type": "markdown",
   "metadata": {},
   "source": [
    "Final Result"
   ]
  },
  {
   "cell_type": "code",
   "execution_count": 22,
   "metadata": {},
   "outputs": [
    {
     "data": {
      "text/plain": [
       "POSITIVE    387\n",
       "NEGATIVE    113\n",
       "Name: sentiment, dtype: int64"
      ]
     },
     "execution_count": 22,
     "metadata": {},
     "output_type": "execute_result"
    }
   ],
   "source": [
    "scrapeddata['sentiment'].value_counts()"
   ]
  },
  {
   "cell_type": "markdown",
   "metadata": {},
   "source": [
    "We can see from the above output the number of positive and negative reviews"
   ]
  }
 ],
 "metadata": {
  "kernelspec": {
   "display_name": "Python 3.9.1 64-bit",
   "language": "python",
   "name": "python3"
  },
  "language_info": {
   "codemirror_mode": {
    "name": "ipython",
    "version": 3
   },
   "file_extension": ".py",
   "mimetype": "text/x-python",
   "name": "python",
   "nbconvert_exporter": "python",
   "pygments_lexer": "ipython3",
   "version": "3.9.1"
  },
  "orig_nbformat": 4,
  "vscode": {
   "interpreter": {
    "hash": "e89691e4663d647bc11c8a9859f5cdd56224e794f653bdd6c406cd9780fe241b"
   }
  }
 },
 "nbformat": 4,
 "nbformat_minor": 2
}
