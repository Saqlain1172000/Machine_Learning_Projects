{
 "cells": [
  {
   "cell_type": "markdown",
   "metadata": {},
   "source": [
    "Importing Librarires to Scrape Data from Google play and for other operations"
   ]
  },
  {
   "cell_type": "code",
   "execution_count": 1,
   "metadata": {},
   "outputs": [],
   "source": [
    "from google_play_scraper import Sort, reviews_all, reviews, app\n",
    "import pandas as pd\n",
    "import numpy as np"
   ]
  },
  {
   "cell_type": "markdown",
   "metadata": {},
   "source": [
    "We are using Adobe Photoshop as our app for Analysis"
   ]
  },
  {
   "cell_type": "code",
   "execution_count": 3,
   "metadata": {},
   "outputs": [],
   "source": [
    "result, continuation_token = reviews(\n",
    "    'com.google.android.adobe',\n",
    "    lang='en', # defaults to 'en'\n",
    "    country='us', # defaults to 'us'\n",
    "    sort=Sort.NEWEST, # defaults to Sort.NEWEST\n",
    "    count=100, # defaults to 100\n",
    "    filter_score_with=None # defaults to None(means all score)\n",
    ")\n",
    "\n",
    "result, _ = reviews(\n",
    "    'com.adobe.psmobile',\n",
    "    continuation_token=continuation_token # defaults to None(load from the beginning)\n",
    ")"
   ]
  },
  {
   "cell_type": "markdown",
   "metadata": {},
   "source": [
    "Scraped the result and putting it into a DataFrame"
   ]
  },
  {
   "cell_type": "code",
   "execution_count": 3,
   "metadata": {},
   "outputs": [],
   "source": [
    "scrapeddata = pd.DataFrame(np.array(result), columns = ['review'])\n",
    "scrapeddata = scrapeddata.join(pd.DataFrame(scrapeddata.pop('review').tolist()))"
   ]
  },
  {
   "cell_type": "code",
   "execution_count": 4,
   "metadata": {},
   "outputs": [
    {
     "data": {
      "text/html": [
       "<div>\n",
       "<style scoped>\n",
       "    .dataframe tbody tr th:only-of-type {\n",
       "        vertical-align: middle;\n",
       "    }\n",
       "\n",
       "    .dataframe tbody tr th {\n",
       "        vertical-align: top;\n",
       "    }\n",
       "\n",
       "    .dataframe thead th {\n",
       "        text-align: right;\n",
       "    }\n",
       "</style>\n",
       "<table border=\"1\" class=\"dataframe\">\n",
       "  <thead>\n",
       "    <tr style=\"text-align: right;\">\n",
       "      <th></th>\n",
       "      <th>reviewId</th>\n",
       "      <th>userName</th>\n",
       "      <th>userImage</th>\n",
       "      <th>content</th>\n",
       "      <th>score</th>\n",
       "      <th>thumbsUpCount</th>\n",
       "      <th>reviewCreatedVersion</th>\n",
       "      <th>at</th>\n",
       "      <th>replyContent</th>\n",
       "      <th>repliedAt</th>\n",
       "    </tr>\n",
       "  </thead>\n",
       "  <tbody>\n",
       "    <tr>\n",
       "      <th>0</th>\n",
       "      <td>1ace7fb7-82ce-42f3-a278-69d69fa5f551</td>\n",
       "      <td>Yassin Mounib</td>\n",
       "      <td>https://play-lh.googleusercontent.com/a-/ACNPE...</td>\n",
       "      <td>Nice</td>\n",
       "      <td>5</td>\n",
       "      <td>0</td>\n",
       "      <td>None</td>\n",
       "      <td>2022-09-23 15:07:31</td>\n",
       "      <td>None</td>\n",
       "      <td>NaT</td>\n",
       "    </tr>\n",
       "    <tr>\n",
       "      <th>1</th>\n",
       "      <td>b7aba515-acce-46d9-bddb-7f775660b792</td>\n",
       "      <td>Devih Wambua</td>\n",
       "      <td>https://play-lh.googleusercontent.com/a/ALm5wu...</td>\n",
       "      <td>Excellent photo editor</td>\n",
       "      <td>5</td>\n",
       "      <td>0</td>\n",
       "      <td>8.4.986</td>\n",
       "      <td>2022-09-23 14:13:51</td>\n",
       "      <td>None</td>\n",
       "      <td>NaT</td>\n",
       "    </tr>\n",
       "    <tr>\n",
       "      <th>2</th>\n",
       "      <td>26d6f60d-4193-417a-bd07-94d199b8ffeb</td>\n",
       "      <td>Bulli Chakraborty</td>\n",
       "      <td>https://play-lh.googleusercontent.com/a-/ACNPE...</td>\n",
       "      <td>Op #psop</td>\n",
       "      <td>5</td>\n",
       "      <td>0</td>\n",
       "      <td>None</td>\n",
       "      <td>2022-09-23 13:34:07</td>\n",
       "      <td>None</td>\n",
       "      <td>NaT</td>\n",
       "    </tr>\n",
       "    <tr>\n",
       "      <th>3</th>\n",
       "      <td>bc431ac2-5038-4ed0-a566-469272e1e16f</td>\n",
       "      <td>yasin arafat</td>\n",
       "      <td>https://play-lh.googleusercontent.com/a-/ACNPE...</td>\n",
       "      <td>Great app otp</td>\n",
       "      <td>5</td>\n",
       "      <td>0</td>\n",
       "      <td>8.4.986</td>\n",
       "      <td>2022-09-23 13:15:24</td>\n",
       "      <td>None</td>\n",
       "      <td>NaT</td>\n",
       "    </tr>\n",
       "    <tr>\n",
       "      <th>4</th>\n",
       "      <td>7237b882-9127-4046-98cb-1f6ca1954b69</td>\n",
       "      <td>Patrick Bart</td>\n",
       "      <td>https://play-lh.googleusercontent.com/a-/ACNPE...</td>\n",
       "      <td>Six years after my first review, this still ge...</td>\n",
       "      <td>5</td>\n",
       "      <td>0</td>\n",
       "      <td>8.4.986</td>\n",
       "      <td>2022-09-23 13:01:00</td>\n",
       "      <td>None</td>\n",
       "      <td>NaT</td>\n",
       "    </tr>\n",
       "  </tbody>\n",
       "</table>\n",
       "</div>"
      ],
      "text/plain": [
       "                               reviewId           userName  \\\n",
       "0  1ace7fb7-82ce-42f3-a278-69d69fa5f551      Yassin Mounib   \n",
       "1  b7aba515-acce-46d9-bddb-7f775660b792       Devih Wambua   \n",
       "2  26d6f60d-4193-417a-bd07-94d199b8ffeb  Bulli Chakraborty   \n",
       "3  bc431ac2-5038-4ed0-a566-469272e1e16f       yasin arafat   \n",
       "4  7237b882-9127-4046-98cb-1f6ca1954b69       Patrick Bart   \n",
       "\n",
       "                                           userImage  \\\n",
       "0  https://play-lh.googleusercontent.com/a-/ACNPE...   \n",
       "1  https://play-lh.googleusercontent.com/a/ALm5wu...   \n",
       "2  https://play-lh.googleusercontent.com/a-/ACNPE...   \n",
       "3  https://play-lh.googleusercontent.com/a-/ACNPE...   \n",
       "4  https://play-lh.googleusercontent.com/a-/ACNPE...   \n",
       "\n",
       "                                             content  score  thumbsUpCount  \\\n",
       "0                                               Nice      5              0   \n",
       "1                             Excellent photo editor      5              0   \n",
       "2                                           Op #psop      5              0   \n",
       "3                                      Great app otp      5              0   \n",
       "4  Six years after my first review, this still ge...      5              0   \n",
       "\n",
       "  reviewCreatedVersion                  at replyContent repliedAt  \n",
       "0                 None 2022-09-23 15:07:31         None       NaT  \n",
       "1              8.4.986 2022-09-23 14:13:51         None       NaT  \n",
       "2                 None 2022-09-23 13:34:07         None       NaT  \n",
       "3              8.4.986 2022-09-23 13:15:24         None       NaT  \n",
       "4              8.4.986 2022-09-23 13:01:00         None       NaT  "
      ]
     },
     "execution_count": 4,
     "metadata": {},
     "output_type": "execute_result"
    }
   ],
   "source": [
    "scrapeddata.head()"
   ]
  },
  {
   "cell_type": "code",
   "execution_count": 5,
   "metadata": {},
   "outputs": [
    {
     "data": {
      "text/plain": [
       "4.226"
      ]
     },
     "execution_count": 5,
     "metadata": {},
     "output_type": "execute_result"
    }
   ],
   "source": [
    "scrapeddata['score'].mean()"
   ]
  },
  {
   "cell_type": "code",
   "execution_count": 6,
   "metadata": {},
   "outputs": [
    {
     "data": {
      "text/plain": [
       "8.4.986    364\n",
       "8.3.979      6\n",
       "8.5.999      3\n",
       "8.0.929      3\n",
       "8.1.958      3\n",
       "7.6.878      1\n",
       "8.2.970      1\n",
       "7.9.923      1\n",
       "8.3.974      1\n",
       "7.4.843      1\n",
       "7.9.921      1\n",
       "8.3.977      1\n",
       "6.4.597      1\n",
       "Name: reviewCreatedVersion, dtype: int64"
      ]
     },
     "execution_count": 6,
     "metadata": {},
     "output_type": "execute_result"
    }
   ],
   "source": [
    "scrapeddata['reviewCreatedVersion'].value_counts()"
   ]
  },
  {
   "cell_type": "code",
   "execution_count": 7,
   "metadata": {},
   "outputs": [
    {
     "name": "stderr",
     "output_type": "stream",
     "text": [
      "All model checkpoint layers were used when initializing TFRobertaForSequenceClassification.\n",
      "\n",
      "All the layers of TFRobertaForSequenceClassification were initialized from the model checkpoint at siebert/sentiment-roberta-large-english.\n",
      "If your task is similar to the task the model of the checkpoint was trained on, you can already use TFRobertaForSequenceClassification for predictions without further training.\n"
     ]
    }
   ],
   "source": [
    "from transformers import pipeline\n",
    "sentiment_analysis = pipeline(\"sentiment-analysis\",model=\"siebert/sentiment-roberta-large-english\")\n"
   ]
  },
  {
   "cell_type": "code",
   "execution_count": 8,
   "metadata": {},
   "outputs": [
    {
     "name": "stdout",
     "output_type": "stream",
     "text": [
      "[{'label': 'NEGATIVE', 'score': 0.9990259408950806}]\n"
     ]
    }
   ],
   "source": [
    "print(sentiment_analysis(\"bad\"))"
   ]
  },
  {
   "cell_type": "code",
   "execution_count": 9,
   "metadata": {},
   "outputs": [
    {
     "data": {
      "text/plain": [
       "reviewId                        object\n",
       "userName                        object\n",
       "userImage                       object\n",
       "content                         object\n",
       "score                            int64\n",
       "thumbsUpCount                    int64\n",
       "reviewCreatedVersion            object\n",
       "at                      datetime64[ns]\n",
       "replyContent                    object\n",
       "repliedAt               datetime64[ns]\n",
       "dtype: object"
      ]
     },
     "execution_count": 9,
     "metadata": {},
     "output_type": "execute_result"
    }
   ],
   "source": [
    "scrapeddata.dtypes"
   ]
  },
  {
   "cell_type": "code",
   "execution_count": 10,
   "metadata": {},
   "outputs": [],
   "source": [
    "scrapeddata['content'] = scrapeddata['content'].astype('str')"
   ]
  },
  {
   "cell_type": "code",
   "execution_count": 11,
   "metadata": {},
   "outputs": [],
   "source": [
    "scrapeddata['result'] = scrapeddata['content'].apply(lambda x: sentiment_analysis(x))"
   ]
  },
  {
   "cell_type": "code",
   "execution_count": 12,
   "metadata": {},
   "outputs": [
    {
     "data": {
      "text/html": [
       "<div>\n",
       "<style scoped>\n",
       "    .dataframe tbody tr th:only-of-type {\n",
       "        vertical-align: middle;\n",
       "    }\n",
       "\n",
       "    .dataframe tbody tr th {\n",
       "        vertical-align: top;\n",
       "    }\n",
       "\n",
       "    .dataframe thead th {\n",
       "        text-align: right;\n",
       "    }\n",
       "</style>\n",
       "<table border=\"1\" class=\"dataframe\">\n",
       "  <thead>\n",
       "    <tr style=\"text-align: right;\">\n",
       "      <th></th>\n",
       "      <th>reviewId</th>\n",
       "      <th>userName</th>\n",
       "      <th>userImage</th>\n",
       "      <th>content</th>\n",
       "      <th>score</th>\n",
       "      <th>thumbsUpCount</th>\n",
       "      <th>reviewCreatedVersion</th>\n",
       "      <th>at</th>\n",
       "      <th>replyContent</th>\n",
       "      <th>repliedAt</th>\n",
       "      <th>result</th>\n",
       "    </tr>\n",
       "  </thead>\n",
       "  <tbody>\n",
       "    <tr>\n",
       "      <th>0</th>\n",
       "      <td>1ace7fb7-82ce-42f3-a278-69d69fa5f551</td>\n",
       "      <td>Yassin Mounib</td>\n",
       "      <td>https://play-lh.googleusercontent.com/a-/ACNPE...</td>\n",
       "      <td>Nice</td>\n",
       "      <td>5</td>\n",
       "      <td>0</td>\n",
       "      <td>None</td>\n",
       "      <td>2022-09-23 15:07:31</td>\n",
       "      <td>None</td>\n",
       "      <td>NaT</td>\n",
       "      <td>[{'label': 'POSITIVE', 'score': 0.997769474983...</td>\n",
       "    </tr>\n",
       "    <tr>\n",
       "      <th>1</th>\n",
       "      <td>b7aba515-acce-46d9-bddb-7f775660b792</td>\n",
       "      <td>Devih Wambua</td>\n",
       "      <td>https://play-lh.googleusercontent.com/a/ALm5wu...</td>\n",
       "      <td>Excellent photo editor</td>\n",
       "      <td>5</td>\n",
       "      <td>0</td>\n",
       "      <td>8.4.986</td>\n",
       "      <td>2022-09-23 14:13:51</td>\n",
       "      <td>None</td>\n",
       "      <td>NaT</td>\n",
       "      <td>[{'label': 'POSITIVE', 'score': 0.998557031154...</td>\n",
       "    </tr>\n",
       "    <tr>\n",
       "      <th>2</th>\n",
       "      <td>26d6f60d-4193-417a-bd07-94d199b8ffeb</td>\n",
       "      <td>Bulli Chakraborty</td>\n",
       "      <td>https://play-lh.googleusercontent.com/a-/ACNPE...</td>\n",
       "      <td>Op #psop</td>\n",
       "      <td>5</td>\n",
       "      <td>0</td>\n",
       "      <td>None</td>\n",
       "      <td>2022-09-23 13:34:07</td>\n",
       "      <td>None</td>\n",
       "      <td>NaT</td>\n",
       "      <td>[{'label': 'POSITIVE', 'score': 0.939789295196...</td>\n",
       "    </tr>\n",
       "    <tr>\n",
       "      <th>3</th>\n",
       "      <td>bc431ac2-5038-4ed0-a566-469272e1e16f</td>\n",
       "      <td>yasin arafat</td>\n",
       "      <td>https://play-lh.googleusercontent.com/a-/ACNPE...</td>\n",
       "      <td>Great app otp</td>\n",
       "      <td>5</td>\n",
       "      <td>0</td>\n",
       "      <td>8.4.986</td>\n",
       "      <td>2022-09-23 13:15:24</td>\n",
       "      <td>None</td>\n",
       "      <td>NaT</td>\n",
       "      <td>[{'label': 'POSITIVE', 'score': 0.998521387577...</td>\n",
       "    </tr>\n",
       "    <tr>\n",
       "      <th>4</th>\n",
       "      <td>7237b882-9127-4046-98cb-1f6ca1954b69</td>\n",
       "      <td>Patrick Bart</td>\n",
       "      <td>https://play-lh.googleusercontent.com/a-/ACNPE...</td>\n",
       "      <td>Six years after my first review, this still ge...</td>\n",
       "      <td>5</td>\n",
       "      <td>0</td>\n",
       "      <td>8.4.986</td>\n",
       "      <td>2022-09-23 13:01:00</td>\n",
       "      <td>None</td>\n",
       "      <td>NaT</td>\n",
       "      <td>[{'label': 'POSITIVE', 'score': 0.998797416687...</td>\n",
       "    </tr>\n",
       "  </tbody>\n",
       "</table>\n",
       "</div>"
      ],
      "text/plain": [
       "                               reviewId           userName  \\\n",
       "0  1ace7fb7-82ce-42f3-a278-69d69fa5f551      Yassin Mounib   \n",
       "1  b7aba515-acce-46d9-bddb-7f775660b792       Devih Wambua   \n",
       "2  26d6f60d-4193-417a-bd07-94d199b8ffeb  Bulli Chakraborty   \n",
       "3  bc431ac2-5038-4ed0-a566-469272e1e16f       yasin arafat   \n",
       "4  7237b882-9127-4046-98cb-1f6ca1954b69       Patrick Bart   \n",
       "\n",
       "                                           userImage  \\\n",
       "0  https://play-lh.googleusercontent.com/a-/ACNPE...   \n",
       "1  https://play-lh.googleusercontent.com/a/ALm5wu...   \n",
       "2  https://play-lh.googleusercontent.com/a-/ACNPE...   \n",
       "3  https://play-lh.googleusercontent.com/a-/ACNPE...   \n",
       "4  https://play-lh.googleusercontent.com/a-/ACNPE...   \n",
       "\n",
       "                                             content  score  thumbsUpCount  \\\n",
       "0                                               Nice      5              0   \n",
       "1                             Excellent photo editor      5              0   \n",
       "2                                           Op #psop      5              0   \n",
       "3                                      Great app otp      5              0   \n",
       "4  Six years after my first review, this still ge...      5              0   \n",
       "\n",
       "  reviewCreatedVersion                  at replyContent repliedAt  \\\n",
       "0                 None 2022-09-23 15:07:31         None       NaT   \n",
       "1              8.4.986 2022-09-23 14:13:51         None       NaT   \n",
       "2                 None 2022-09-23 13:34:07         None       NaT   \n",
       "3              8.4.986 2022-09-23 13:15:24         None       NaT   \n",
       "4              8.4.986 2022-09-23 13:01:00         None       NaT   \n",
       "\n",
       "                                              result  \n",
       "0  [{'label': 'POSITIVE', 'score': 0.997769474983...  \n",
       "1  [{'label': 'POSITIVE', 'score': 0.998557031154...  \n",
       "2  [{'label': 'POSITIVE', 'score': 0.939789295196...  \n",
       "3  [{'label': 'POSITIVE', 'score': 0.998521387577...  \n",
       "4  [{'label': 'POSITIVE', 'score': 0.998797416687...  "
      ]
     },
     "execution_count": 12,
     "metadata": {},
     "output_type": "execute_result"
    }
   ],
   "source": [
    "scrapeddata.head()"
   ]
  },
  {
   "cell_type": "code",
   "execution_count": 13,
   "metadata": {},
   "outputs": [
    {
     "data": {
      "text/plain": [
       "(500, 11)"
      ]
     },
     "execution_count": 13,
     "metadata": {},
     "output_type": "execute_result"
    }
   ],
   "source": [
    "scrapeddata.shape"
   ]
  },
  {
   "cell_type": "code",
   "execution_count": 14,
   "metadata": {},
   "outputs": [],
   "source": [
    "x = sentiment_analysis(\"I love this!\")"
   ]
  },
  {
   "cell_type": "code",
   "execution_count": 15,
   "metadata": {},
   "outputs": [
    {
     "data": {
      "text/plain": [
       "0.9988656044006348"
      ]
     },
     "execution_count": 15,
     "metadata": {},
     "output_type": "execute_result"
    }
   ],
   "source": [
    "x[0]['score']"
   ]
  },
  {
   "cell_type": "markdown",
   "metadata": {},
   "source": [
    "Making two more columns to distinguish the sentiment(Positive/Negative) and the score(i.e the percentage) "
   ]
  },
  {
   "cell_type": "code",
   "execution_count": 16,
   "metadata": {},
   "outputs": [],
   "source": [
    "scrapeddata['sentiment'] = scrapeddata['result'].apply(lambda x: (x[0]['label']))\n",
    "scrapeddata['score'] = scrapeddata['result'].apply(lambda x: (x[0]['score']))\n"
   ]
  },
  {
   "cell_type": "code",
   "execution_count": 17,
   "metadata": {},
   "outputs": [
    {
     "data": {
      "text/html": [
       "<div>\n",
       "<style scoped>\n",
       "    .dataframe tbody tr th:only-of-type {\n",
       "        vertical-align: middle;\n",
       "    }\n",
       "\n",
       "    .dataframe tbody tr th {\n",
       "        vertical-align: top;\n",
       "    }\n",
       "\n",
       "    .dataframe thead th {\n",
       "        text-align: right;\n",
       "    }\n",
       "</style>\n",
       "<table border=\"1\" class=\"dataframe\">\n",
       "  <thead>\n",
       "    <tr style=\"text-align: right;\">\n",
       "      <th></th>\n",
       "      <th>reviewId</th>\n",
       "      <th>userName</th>\n",
       "      <th>userImage</th>\n",
       "      <th>content</th>\n",
       "      <th>score</th>\n",
       "      <th>thumbsUpCount</th>\n",
       "      <th>reviewCreatedVersion</th>\n",
       "      <th>at</th>\n",
       "      <th>replyContent</th>\n",
       "      <th>repliedAt</th>\n",
       "      <th>result</th>\n",
       "      <th>sentiment</th>\n",
       "    </tr>\n",
       "  </thead>\n",
       "  <tbody>\n",
       "    <tr>\n",
       "      <th>0</th>\n",
       "      <td>1ace7fb7-82ce-42f3-a278-69d69fa5f551</td>\n",
       "      <td>Yassin Mounib</td>\n",
       "      <td>https://play-lh.googleusercontent.com/a-/ACNPE...</td>\n",
       "      <td>Nice</td>\n",
       "      <td>0.997769</td>\n",
       "      <td>0</td>\n",
       "      <td>None</td>\n",
       "      <td>2022-09-23 15:07:31</td>\n",
       "      <td>None</td>\n",
       "      <td>NaT</td>\n",
       "      <td>[{'label': 'POSITIVE', 'score': 0.997769474983...</td>\n",
       "      <td>POSITIVE</td>\n",
       "    </tr>\n",
       "    <tr>\n",
       "      <th>1</th>\n",
       "      <td>b7aba515-acce-46d9-bddb-7f775660b792</td>\n",
       "      <td>Devih Wambua</td>\n",
       "      <td>https://play-lh.googleusercontent.com/a/ALm5wu...</td>\n",
       "      <td>Excellent photo editor</td>\n",
       "      <td>0.998557</td>\n",
       "      <td>0</td>\n",
       "      <td>8.4.986</td>\n",
       "      <td>2022-09-23 14:13:51</td>\n",
       "      <td>None</td>\n",
       "      <td>NaT</td>\n",
       "      <td>[{'label': 'POSITIVE', 'score': 0.998557031154...</td>\n",
       "      <td>POSITIVE</td>\n",
       "    </tr>\n",
       "    <tr>\n",
       "      <th>2</th>\n",
       "      <td>26d6f60d-4193-417a-bd07-94d199b8ffeb</td>\n",
       "      <td>Bulli Chakraborty</td>\n",
       "      <td>https://play-lh.googleusercontent.com/a-/ACNPE...</td>\n",
       "      <td>Op #psop</td>\n",
       "      <td>0.939789</td>\n",
       "      <td>0</td>\n",
       "      <td>None</td>\n",
       "      <td>2022-09-23 13:34:07</td>\n",
       "      <td>None</td>\n",
       "      <td>NaT</td>\n",
       "      <td>[{'label': 'POSITIVE', 'score': 0.939789295196...</td>\n",
       "      <td>POSITIVE</td>\n",
       "    </tr>\n",
       "    <tr>\n",
       "      <th>3</th>\n",
       "      <td>bc431ac2-5038-4ed0-a566-469272e1e16f</td>\n",
       "      <td>yasin arafat</td>\n",
       "      <td>https://play-lh.googleusercontent.com/a-/ACNPE...</td>\n",
       "      <td>Great app otp</td>\n",
       "      <td>0.998521</td>\n",
       "      <td>0</td>\n",
       "      <td>8.4.986</td>\n",
       "      <td>2022-09-23 13:15:24</td>\n",
       "      <td>None</td>\n",
       "      <td>NaT</td>\n",
       "      <td>[{'label': 'POSITIVE', 'score': 0.998521387577...</td>\n",
       "      <td>POSITIVE</td>\n",
       "    </tr>\n",
       "    <tr>\n",
       "      <th>4</th>\n",
       "      <td>7237b882-9127-4046-98cb-1f6ca1954b69</td>\n",
       "      <td>Patrick Bart</td>\n",
       "      <td>https://play-lh.googleusercontent.com/a-/ACNPE...</td>\n",
       "      <td>Six years after my first review, this still ge...</td>\n",
       "      <td>0.998797</td>\n",
       "      <td>0</td>\n",
       "      <td>8.4.986</td>\n",
       "      <td>2022-09-23 13:01:00</td>\n",
       "      <td>None</td>\n",
       "      <td>NaT</td>\n",
       "      <td>[{'label': 'POSITIVE', 'score': 0.998797416687...</td>\n",
       "      <td>POSITIVE</td>\n",
       "    </tr>\n",
       "  </tbody>\n",
       "</table>\n",
       "</div>"
      ],
      "text/plain": [
       "                               reviewId           userName  \\\n",
       "0  1ace7fb7-82ce-42f3-a278-69d69fa5f551      Yassin Mounib   \n",
       "1  b7aba515-acce-46d9-bddb-7f775660b792       Devih Wambua   \n",
       "2  26d6f60d-4193-417a-bd07-94d199b8ffeb  Bulli Chakraborty   \n",
       "3  bc431ac2-5038-4ed0-a566-469272e1e16f       yasin arafat   \n",
       "4  7237b882-9127-4046-98cb-1f6ca1954b69       Patrick Bart   \n",
       "\n",
       "                                           userImage  \\\n",
       "0  https://play-lh.googleusercontent.com/a-/ACNPE...   \n",
       "1  https://play-lh.googleusercontent.com/a/ALm5wu...   \n",
       "2  https://play-lh.googleusercontent.com/a-/ACNPE...   \n",
       "3  https://play-lh.googleusercontent.com/a-/ACNPE...   \n",
       "4  https://play-lh.googleusercontent.com/a-/ACNPE...   \n",
       "\n",
       "                                             content     score  thumbsUpCount  \\\n",
       "0                                               Nice  0.997769              0   \n",
       "1                             Excellent photo editor  0.998557              0   \n",
       "2                                           Op #psop  0.939789              0   \n",
       "3                                      Great app otp  0.998521              0   \n",
       "4  Six years after my first review, this still ge...  0.998797              0   \n",
       "\n",
       "  reviewCreatedVersion                  at replyContent repliedAt  \\\n",
       "0                 None 2022-09-23 15:07:31         None       NaT   \n",
       "1              8.4.986 2022-09-23 14:13:51         None       NaT   \n",
       "2                 None 2022-09-23 13:34:07         None       NaT   \n",
       "3              8.4.986 2022-09-23 13:15:24         None       NaT   \n",
       "4              8.4.986 2022-09-23 13:01:00         None       NaT   \n",
       "\n",
       "                                              result sentiment  \n",
       "0  [{'label': 'POSITIVE', 'score': 0.997769474983...  POSITIVE  \n",
       "1  [{'label': 'POSITIVE', 'score': 0.998557031154...  POSITIVE  \n",
       "2  [{'label': 'POSITIVE', 'score': 0.939789295196...  POSITIVE  \n",
       "3  [{'label': 'POSITIVE', 'score': 0.998521387577...  POSITIVE  \n",
       "4  [{'label': 'POSITIVE', 'score': 0.998797416687...  POSITIVE  "
      ]
     },
     "execution_count": 17,
     "metadata": {},
     "output_type": "execute_result"
    }
   ],
   "source": [
    "scrapeddata.head()"
   ]
  },
  {
   "cell_type": "code",
   "execution_count": 18,
   "metadata": {},
   "outputs": [
    {
     "data": {
      "text/plain": [
       "POSITIVE    0.822\n",
       "NEGATIVE    0.178\n",
       "Name: sentiment, dtype: float64"
      ]
     },
     "execution_count": 18,
     "metadata": {},
     "output_type": "execute_result"
    }
   ],
   "source": [
    "scrapeddata['sentiment'].value_counts(normalize=True)"
   ]
  },
  {
   "cell_type": "code",
   "execution_count": 19,
   "metadata": {},
   "outputs": [
    {
     "data": {
      "text/plain": [
       "0.993898353099823"
      ]
     },
     "execution_count": 19,
     "metadata": {},
     "output_type": "execute_result"
    }
   ],
   "source": [
    "scrapeddata['score'].mean()"
   ]
  },
  {
   "cell_type": "markdown",
   "metadata": {},
   "source": [
    "Importing libraries to plot the diagram for better visulaization"
   ]
  },
  {
   "cell_type": "code",
   "execution_count": 20,
   "metadata": {},
   "outputs": [],
   "source": [
    "import seaborn as sns\n",
    "import matplotlib.pyplot as plt"
   ]
  },
  {
   "cell_type": "code",
   "execution_count": 21,
   "metadata": {},
   "outputs": [
    {
     "data": {
      "image/png": "[encoded data removed]",
      "text/plain": [
       "<Figure size 432x288 with 1 Axes>"
      ]
     },
     "metadata": {},
     "output_type": "display_data"
    }
   ],
   "source": [
    "sns.set(style=\"whitegrid\")\n",
    "fig = sns.countplot(x=scrapeddata['sentiment'], color='purple')\n",
    "plt.title('Number of Positive and Negative Reviews')\n",
    "plt.show()"
   ]
  },
  {
   "cell_type": "markdown",
   "metadata": {},
   "source": [
    "Final Result"
   ]
  },
  {
   "cell_type": "code",
   "execution_count": 22,
   "metadata": {},
   "outputs": [
    {
     "data": {
      "text/plain": [
       "POSITIVE    411\n",
       "NEGATIVE     89\n",
       "Name: sentiment, dtype: int64"
      ]
     },
     "execution_count": 22,
     "metadata": {},
     "output_type": "execute_result"
    }
   ],
   "source": [
    "scrapeddata['sentiment'].value_counts()"
   ]
  },
  {
   "cell_type": "markdown",
   "metadata": {},
   "source": [
    "We can see from the above output the number of positive and negative reviews"
   ]
  }
 ],
 "metadata": {
  "kernelspec": {
   "display_name": "Python 3",
   "language": "python",
   "name": "python3"
  },
  "language_info": {
   "codemirror_mode": {
    "name": "ipython",
    "version": 3
   },
   "file_extension": ".py",
   "mimetype": "text/x-python",
   "name": "python",
   "nbconvert_exporter": "python",
   "pygments_lexer": "ipython3",
   "version": "3.9.1"
  },
  "vscode": {
   "interpreter": {
    "hash": "e89691e4663d647bc11c8a9859f5cdd56224e794f653bdd6c406cd9780fe241b"
   }
  }
 },
 "nbformat": 4,
 "nbformat_minor": 2
}
